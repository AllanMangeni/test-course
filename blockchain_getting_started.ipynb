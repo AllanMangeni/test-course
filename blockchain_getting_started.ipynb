{
  "nbformat": 4,
  "nbformat_minor": 5,
  "metadata": {
    "kernelspec": {
      "display_name": "Python 3",
      "language": "python",
      "name": "python3"
    },
    "language_info": {
      "codemirror_mode": {
        "name": "ipython",
        "version": 3
      },
      "file_extension": ".py",
      "mimetype": "text/x-python",
      "name": "python",
      "nbconvert_exporter": "python",
      "pygments_lexer": "ipython3",
      "version": "3.8.5"
    },
    "colab": {
      "name": "blockchain_getting_started.ipynb",
      "provenance": [],
      "collapsed_sections": [],
      "include_colab_link": true
    }
  },
  "cells": [
    {
      "cell_type": "markdown",
      "metadata": {
        "id": "view-in-github",
        "colab_type": "text"
      },
      "source": [
        "<a href=\"https://colab.research.google.com/github/dnzengou/test-course/blob/main/blockchain_getting_started.ipynb\" target=\"_parent\"><img src=\"https://colab.research.google.com/assets/colab-badge.svg\" alt=\"Open In Colab\"/></a>"
      ]
    },
    {
      "cell_type": "markdown",
      "metadata": {
        "id": "activated-buffalo"
      },
      "source": [
        "<div>\n",
        "    </div>\n",
        "        <h1 style=\"text-align:center;\">Porium</h1>\n",
        "<h4 style=\"text-align:center\">August 01, 2021</h4><br>\n",
        "<hr>\n",
        "<h2 align=\"center\">Blockchain – Getting started</h2>\n",
        "\n",
        "---"
      ],
      "id": "activated-buffalo"
    },
    {
      "cell_type": "markdown",
      "metadata": {
        "id": "unlimited-brook"
      },
      "source": [
        "## Introduction\n",
        "Blockchain is a digital technology that combines cryptographic, data management, networking, and incentive mechanisms between network participants. This course is for those interested to learn about the technicality, governance and practical applications.\n",
        "\n",
        "## Learning Objectives\n",
        "When finished this course, you will \n",
        "* Be able to identify the different blockchain architectures, and applications;\n",
        "* Have deep dived into hashing functions and algorithms, including SHA its most popular,\n",
        "and private public keys. \n",
        "\n",
        "## Table of Contents\n",
        "- [1. Blockchain : Getting Started](#1-blockchain---getting-started)\n",
        "  * [1.1. Basics of Blockchain](#11-basics-of-blockchain)\n",
        "  ** [1.1.1. Introduction to Distributed Ledgers](#111-introduction-to-distributed-ledgers)\n",
        "  * [1.2. History of Cryptocurrencies](#12-historyof-cryptocurrencies)\n",
        "  ** [1.2.1. A History of Digital Money](#121-a-historyof-digital-money)\n",
        "  * [1.3. Architecture and Components](#13-architecture-and-components)\n",
        "  ** [1.3.1. Components, Structure and Benefits](#31-components-structure-and-enefits)\n",
        "  ** [1.3.2: Different kinds of blockchain](different-kinds-of-blockchain)\n",
        "  * [1.4. Blockchain Use Cases](#14-blockchain-use-cases)\n",
        "  ** [1.4.1. Application of Blockchain Technology](#141-application-of-blockchain-technology)\n",
        "  ** [1.4.2. Web 3.0](#web3)\n",
        "  * [1.5. Activity Module](#15-activity-module)\n",
        "  ** [1.5.1. Answer Practice Questions](#answer-practice-questions)\n",
        "  ** [1.5.2: Setting up Private Ethereum TestNet](#setting-up-private-ethereum-testnet)\n",
        "- [Glossary](#glossary) "
      ],
      "id": "unlimited-brook"
    },
    {
      "cell_type": "markdown",
      "metadata": {
        "id": "congressional-sending"
      },
      "source": [
        "## Instructor's note\n",
        "Welcome to Porium Blockchain! I'm excited to have you in the class and look forward to your contributions to the learning community.<br>\n",
        "To begin, I recommend taking a few minutes to explore the course platform. Review the material we’ll cover each week, and preview the assignments you’ll need to complete to pass the course. If you have questions about course content, please send a message via e-mail or chat to me or the other peer learners to get help from others in the course community. For technical problems with the course platform, contact the Learner Help Center.<br/>\n",
        "Good luck as you get started, and I hope you enjoy the course!\n",
        "\n"
      ],
      "id": "congressional-sending"
    },
    {
      "cell_type": "markdown",
      "metadata": {
        "id": "requested-leone"
      },
      "source": [
        "## 1. Blockchain: Getting started\n",
        "\n",
        "A helicopter tour of the essential concepts of blockchain - each of which will be detailed later in the course. Blockchain as a technology is defined in terms of the commonalities present in blockchain applications. There is also an introduction to both current and future blockchain applications.\n"
      ],
      "id": "requested-leone"
    },
    {
      "cell_type": "markdown",
      "metadata": {
        "id": "ancient-findings"
      },
      "source": [
        "### 1.1. Basics of Blockchain\n",
        "\n",
        "#### 1.1.1. Introduction to Distributed Ledgers\n",
        "\n",
        "Blockchain is a chronological database of transactions recorded by a network of computers; it is a list (‘chain’) of groups (‘blocks’) of transactions faciliated through this decentralised public ledger - also known as distributed ledger technology (DLT).\n",
        "Blockchain ledger combines cryptographic mechanism, data management, networking, and incentive mechanisms that rewards the checking, execution, and recording of transactions between them different parties of the network.<br>\n",
        "Every new transaction executed on the ledger carries both an immutable record of the entire history of the chain and all the previous transactions. Anyone can add a transaction to it; noone can remove it.\n",
        "\n",
        "This a list (‘*chain*’) of groups (‘*blocks*’) of transactions is also known as distributed ledger technology (DLT). Through a decentralised public ledger and a cryptographic mechanism, blockchain facilitates transactions that are sufficiently secure between two parties.\n",
        "\n",
        "![blockchain-basics](blockchain-basics.png)\n",
        "\n",
        "In brief, blockchain is a public ledger containing the list of all historical transactions that happened since its inception. Put simply, it is basically a distributed database which nodes contain a copy of the ledger of all transactions. This allows the processing nodes to independently validate of the authenticity of the transactions without the need for middleman or central authority, with the content of the blocks replicated across many geographically-distributed processing nodes. The system is said **trustless**. All participants of the network – all the other devices that hold the same version of a block – eventually achieve **consensus** about the integrity and shared contents of the blockchain ledger, by solving a complex mathematical problem; the node at the origin of the successfull computation gets a *reward*.\n",
        "\n",
        "\n",
        "Historically, transactions between parties such as payments, escrow, notarisation, voting, registration, and process coordination– key to government and industry operations – are supported by trusted third-parties such as public private agencies, banks, legal firms, accounting firms, and service providers. About being trustless, **blockchain consensus** is designed so that instead of trusting these intermediaries, trust would be given to a majority of the collective jointly operating the blockchain, and the correctness of their shared technology platform.\n",
        "\n",
        "\n",
        "\n",
        "\n",
        "* **abcd** ```\"abcd\"```"
      ],
      "id": "ancient-findings"
    },
    {
      "cell_type": "markdown",
      "metadata": {
        "id": "XoceRL47g_nk"
      },
      "source": [
        "**Adding and validating transactions on the ledger**\n",
        "\n",
        "Each articipating party proposes a new transaction to the network by adding it to a pool of transactions n the ledger intended to be recorded onto it. Processing nodes (*miners*) within that blockchain community take some of those transactions, check their integrity, and record them in new blocks on the ledger.<br>\n",
        "The network must confirm that any new transaction is valid, so that when a consensus is reached (by 51 per cent of the participants 'voting power'), the new block is added to the end of the chain, thereby forming overtime the blockchain. It then cannot be deleted and becomes a permanent, immutable record of the transactions that can be accessed and verified by everyone on the network.<br>\n",
        "\n",
        "\n",
        "<h4><b>Rules</b></h4>\n",
        "\n",
        "![rule](http://i.stack.imgur.com/QvgMr.png)\n",
        "\n",
        "\n",
        "<h4><b>Transactions</b></h4>\n",
        "\n",
        "![transations](https://nakamotoinstitute.org/static/img/bitcoin/transactions.svg)\n",
        "\n",
        "\n",
        "<h4><b>Block verification</b></h4>\n",
        "\n",
        "![verification](https://www.shadowandy.net/wp/wp-content/uploads/bitcoin-block-chain-verified.png)\n",
        "\n"
      ],
      "id": "XoceRL47g_nk"
    },
    {
      "cell_type": "markdown",
      "metadata": {
        "id": "_Ueu-u3xEmCP"
      },
      "source": [
        ""
      ],
      "id": "_Ueu-u3xEmCP"
    },
    {
      "cell_type": "markdown",
      "metadata": {
        "id": "ymQo3QphDUxg"
      },
      "source": [
        ""
      ],
      "id": "ymQo3QphDUxg"
    },
    {
      "cell_type": "markdown",
      "metadata": {
        "id": "p7jYRHiZDThM"
      },
      "source": [
        ""
      ],
      "id": "p7jYRHiZDThM"
    },
    {
      "cell_type": "markdown",
      "metadata": {
        "id": "zs0Q90gCI1uo"
      },
      "source": [
        "### 1.2. History of cryptocurrency\n",
        "\n",
        "#### 1.2.1. A History of Digital Money\n",
        "\n",
        "**Pre-Bitcoin era**\n",
        "Before cryptocurrencies, were digital currencies. Although decentralised money was proposed as early as 1998, it remained at the stage of concept partly because of the inability to ensure security and verifiability of the transactions.\n",
        "Digital currency started in fact in the 90s with the first known electronic cash company called DigiCash. The followed by more established financial technology companies, among which Paypal, with an online money transfer service to customers.\n",
        "\n",
        "\n",
        "##### Cryptocurrency\n",
        "\n",
        "A digital asset designed to work as a medium of exchange. Bitcoin is the most widely used cryptocurrency at this day, which can be traded on the internet like would any other currency or commodity.  It is censorship resistant, has transaction records secured by a strong cryptography, which also control the creation of additional coins and verifies the transfer of coin ownership. <br/>\n",
        "Cryptocurrencies do not exist under physical form and is typically not issued by a central authority. A cryptocurrency typically uses decentralized control, thus differing from *fiat currency* (medium of exchange established as money usually by government regulation) in paper form, and central bank digital currency (CBDC), its digital equivalent.\n",
        "\n",
        "No banks are involved in these transactions; Eg. if a Alice wants to send some money to a Bob, she can do so over the bitcoin network without having to pay heavy transaction fees on her own money, borderless, at a speed that is faster than current traditional alternatives. Both the sender and receiver can be anonymous, depending on the kind of blockchain architecture used; their transactions as well as all the others on bitcoin since its inception are publicly visible. The network is transparent. An advantage of a decentralized system is that there is no central point offailure, thus making it immune against equipment failures and difficult for attackers to hack.<br>\n",
        "\n",
        "The fact that there is no central governing authority or controlling body implies that every user is responsible for the storing and safety of their own funds within specialized wallets.\n",
        "\n",
        "\n",
        "\n",
        "**Bitcoin blockchain**\n",
        "First and foremost popular application for real-life purpose came to life through the vision of an individual - or group of individuals - going by the pseudonym of **Satoshi Nakamoto** on a cryptography mailing in 2008 where he published a paper titled \"Bitcoin: A Peer-to-Peer Electronic Cash System\". The Bitcoin software was released as open source code a few months latere, in January 2009. The period this happens is no coincidence: we are then in the mist of one of the worst financial crisis of all time, the subprime crisis.<br>\n",
        "\n",
        "Blockchain technology is based on the concept that in order to avoid the risk of spending the same money twice, **double spending problem** (scheme in which the same single digital token can be spent more than once onto the network), every participants of the network needs to authorize the transaction in order for it to be verified.<br/>\n",
        "This technology was not born that day though, nor was digital cash. The first technological solution that solved the *double-spending problem* was, along with the first reference implementation of bitcoin core.<br>\n",
        "\n",
        "The bitcoin network is a peer-to-peer payment network that operates on a cryptographic protocol. Users can send and receive bitcoins(the units of currency on the network), by broadcasting digitally signed messages to the network using bitcoin wallet software.  Computers on the network that host this wallet software are also called as Nodes. Transactions are recorded into a distributed, replicated public database known as the blockchain, with consensus achieved by a proof-of-work system called \"mining\". It is the process of creating new blockchain blocks using computing power to record transactions in blocks on the chain. ‘Proof of Work’ (PoW) mining uses computing power to solve the cryptographic algorithms necessary to record the transactions, leading to rewarding the successful miners.<br>\n",
        "\n",
        "Bitcoin has been running successfully for the past 10-11 years, at a few exceptions. It is not an overstatement to say that this system is one of the -if not the- most attacked on the internet today, and still running.\n",
        "\n",
        "***The hard fork***\n",
        "\n",
        "\n",
        "***Bitcoin components***\n",
        "\n",
        "*Blockchain: A public ledger containing the list of all bitcoin transactions since the inception of bitcoin. The blockchain is basically a distributed database, with each node containing a copy of the ledger of all bitcoin transactions. This allows for independent verification of a transaction without the need for a central authority. \n",
        "\n",
        "Basically, each node running the bitcoin software records new transactions on its copy of the ledger and then propagates this information to all of its connected node (peer to peer). Every 10 minutes (approximately), the newly added transactions are committed as a block to the existing ledger. Each block that is committed, will always hold a reference to the previous block, which the previous one and so on. Hence the term Blockchain. Once a block has been committed, these are again propagated/published to all connected nodes. The commit is performed by a service called Mining. \n",
        "\n",
        "The original bitcoin implementation internally used Berkeley DB for holding these transactions, the latest versions have started to use LevelDB from Google. \n",
        "\n",
        "Mining: This is a record-keeping service that ensures the ledger is accurate and up to date. This service will continuously verify the block to see if each block contains a reference to the previous block. and new transactions forming a block are again committed by containing a reference to a hash of the previous block. These hashes are generated using the SHA-256 algorithm. \n",
        "\n",
        "In order for a new block to be accepted to the blockchain, the block must contain a new component called \"proof-of-work\" which is basically a CPU/Memory intensive operation of generating a nonce (a cryptographic sequence of numbers following a defined pattern and difficulty). This proof is easy for any node in the network to verify, but extremely time-consuming to generate. \n",
        "\n",
        "Every 2016 blocks the level of difficulty is adjusted depending on the recent performance of the Bitcoin network. Since the mining is time-consuming, CPU and memory intensive operation, each miner is compensated for the mining task (once their version of the block is accepted) with few Bitcoins (approximately 12.5 bitcoins for each successful mining).\n",
        "\n",
        "Wallets: Like in the real world, a wallet is a place to hold and store money. In the bitcoin world, this a digital storage space to hold/store bitcoins. Bitcoin uses public key cryptography, wherein when a user registers for a wallet, he/she generates a key-pair (a private key and a public key). The wallet will hold these keys.\n",
        "\n",
        "There are two types of wallets: Full clients, Light clients. Full clients can verify the validity of the transactions against the local copy of the blockchain. Light clients are more useful in low bandwidth networks, they consult with full clients for transaction verification.\n",
        "\n",
        "Transaction: Transaction is basically a record that documents the movement of money(bitcoin)_from one user to another. The unit of any transaction in bitcoin blockchain is Bitcoin!\n",
        "\n",
        "On the bitcoin network, everything is decentralized. \n",
        "Each system called a node can run a wallet (full/light), these will interact with other nodes on the internet using p2p protocol. \n",
        "There are few specialized nodes called Miners, which are responsible for ensuring proof of the work of the committed block.\n",
        "There is a possibility of many miners coming up with a new proof-of-work at almost the same time (such a scenario is called fork). such a scenario is handled using the consensus algorithm.\n",
        "Each node retains a copy of the entire block-chain thereby being fault-tolerant and secure. Theoretically, an attacker can gain control of the network or alter the contents of the blockchain database only if he/she has access to more than 51% of the network.*\n",
        "\n"
      ],
      "id": "zs0Q90gCI1uo"
    },
    {
      "cell_type": "markdown",
      "metadata": {
        "id": "YKMh4wgYMnOT"
      },
      "source": [
        "\n",
        "\n",
        "![blockchain-basics](blockchain-basics.png)"
      ],
      "id": "YKMh4wgYMnOT"
    },
    {
      "cell_type": "markdown",
      "metadata": {
        "id": "qB4zrD0SMm0_"
      },
      "source": [
        ""
      ],
      "id": "qB4zrD0SMm0_"
    },
    {
      "cell_type": "markdown",
      "metadata": {
        "id": "JA0ccQ1QMlvw"
      },
      "source": [
        ""
      ],
      "id": "JA0ccQ1QMlvw"
    },
    {
      "cell_type": "markdown",
      "metadata": {
        "id": "qaw8ASg9bH-f"
      },
      "source": [
        "## Resources\n",
        "\n",
        "* [Double-spending proble](https://en.wikipedia.org/wiki/Double-spending)\n",
        "* [Cryptocurrency](https://en.wikipedia.org/wiki/Cryptocurrency)\n",
        "* [Fiat money](https://en.wikipedia.org/wiki/Fiat_money)\n",
        "* [Let's Decentralize the Web](https://realchainlife.github.io/posts/lets-decentralize-the-web.html )\n",
        "* [Why the Web 3.0 Matters and you should know about it](https://medium.com/@essentia1/why-the-web-3-0-matters-and-you-should-know-about-it-a5851d63c949)\n",
        "* [The Complete History of Cryptocurrency for Beginners](https://parameter.io/history-of-cryptocurrency/)\n",
        "\n",
        "\n"
      ],
      "id": "qaw8ASg9bH-f"
    },
    {
      "cell_type": "markdown",
      "metadata": {
        "id": "XdEyzblMlItd"
      },
      "source": [
        ""
      ],
      "id": "XdEyzblMlItd"
    },
    {
      "cell_type": "markdown",
      "metadata": {
        "id": "ghVoM33rlKpk"
      },
      "source": [
        "### 1.4. Blockchain use cases\n",
        "\n",
        "#### 1.4.2 Web 3.0\n",
        "\n",
        "The Decentralize Web or Web 3.0 can be described in simple terms as an architectural system that builds services on the internet which do not rely to function on any single central authority or organisation. As opposed to web 2.0 (the current model) where significant shares of the whole infrastructure are centralized, privately owned and or submitted to censorship.<br>\n",
        "\n",
        "According to Jason Griffey, fellow at the Berkman Center for Internet and Society at Harvard University, it is *a series of technologies that replace or augment current communication protocols, networks, and services and distribute them in a way that is robust against single-actor control or censorship*. "
      ],
      "id": "ghVoM33rlKpk"
    },
    {
      "cell_type": "markdown",
      "metadata": {
        "id": "pa3h567z_SzN"
      },
      "source": [
        ""
      ],
      "id": "pa3h567z_SzN"
    },
    {
      "cell_type": "markdown",
      "metadata": {
        "id": "l0jT-SlB_Sh0"
      },
      "source": [
        "\n",
        "\n",
        "![web 2.0 vs web 3.0](https://cdn-images-1.medium.com/max/1600/1*M5JgwC4zOcX0LaQsLd1fkw.png)"
      ],
      "id": "l0jT-SlB_Sh0"
    },
    {
      "cell_type": "markdown",
      "metadata": {
        "id": "r3ZvJhNwA4y0"
      },
      "source": [
        "Note. Brave browser is not web3; Esssentia.one does not exist anymore; there is more to web 3 than those highlighted here."
      ],
      "id": "r3ZvJhNwA4y0"
    },
    {
      "cell_type": "markdown",
      "metadata": {
        "id": "EYsICp1K_SSb"
      },
      "source": [
        ""
      ],
      "id": "EYsICp1K_SSb"
    },
    {
      "cell_type": "markdown",
      "metadata": {
        "id": "p9umHAT8lLqO"
      },
      "source": [
        ""
      ],
      "id": "p9umHAT8lLqO"
    }
  ]
}