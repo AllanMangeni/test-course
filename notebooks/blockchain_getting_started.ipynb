{
  "nbformat": 4,
  "nbformat_minor": 5,
  "metadata": {
    "kernelspec": {
      "display_name": "Python 3",
      "language": "python",
      "name": "python3"
    },
    "language_info": {
      "codemirror_mode": {
        "name": "ipython",
        "version": 3
      },
      "file_extension": ".py",
      "mimetype": "text/x-python",
      "name": "python",
      "nbconvert_exporter": "python",
      "pygments_lexer": "ipython3",
      "version": "3.8.5"
    },
    "colab": {
      "name": "blockchain_getting_started.ipynb",
      "provenance": [],
      "collapsed_sections": [],
      "toc_visible": true
    }
  },
  "cells": [
    {
      "cell_type": "markdown",
      "metadata": {
        "id": "activated-buffalo"
      },
      "source": [
        "<div>\n",
        "    </div>\n",
        "        <h1 style=\"text-align:center;\">Porium</h1>\n",
        "<h4 style=\"text-align:center\">August 01, 2021</h4><br>\n",
        "<hr>\n",
        "<h2 align=\"center\">Blockchain – Getting started</h2>\n",
        "\n",
        "---"
      ],
      "id": "activated-buffalo"
    },
    {
      "cell_type": "markdown",
      "metadata": {
        "id": "unlimited-brook"
      },
      "source": [
        "## Introduction\n",
        "Blockchain is a digital technology that combines cryptographic, data management, networking, and incentive mechanisms between network participants. This course is for those interested to learn about the technicality, governance and practical applications.\n",
        "\n",
        "## Learning Objectives\n",
        "When finished this course, you will \n",
        "* Be able to identify the different blockchain architectures, and applications;\n",
        "* Have deep dived into hashing functions and algorithms, including SHA its most popular,\n",
        "and private public keys. \n",
        "\n",
        "## Table of Contents\n",
        "- [1. Blockchain : Getting Started](#1-blockchain---getting-started)\n",
        "  * [1.1. Basics of Blockchain](#11-basics-of-blockchain)\n",
        "  ** [1.1.1. Introduction to Distributed Ledgers](#111-introduction-to-distributed-ledgers)\n",
        "  * [1.2. History of Cryptocurrencies](#12-historyof-cryptocurrencies)\n",
        "  ** [1.2.1. A History of Digital Money](#121-a-historyof-digital-money)\n",
        "  * [1.3. Architecture and Components](#13-architecture-and-components)\n",
        "  ** [1.3.1. Components, Structure and Benefits](#31-components-structure-and-enefits)\n",
        "  ** [1.3.2: Different kinds of blockchain](different-kinds-of-blockchain)\n",
        "  * [1.4. Blockchain Use Cases](#14-blockchain-use-cases)\n",
        "  ** [1.4.1. Application of Blockchain Technology](#141-application-of-blockchain-technology)\n",
        "  ** [1.4.2. Web 3.0](#web3)\n",
        "  * [1.5. Activity Module](#15-activity-module)\n",
        "  ** [1.5.1. Answer Practice Questions](#answer-practice-questions)\n",
        "  ** [1.5.2: Setting up Private Ethereum TestNet](#setting-up-private-ethereum-testnet)\n",
        "- [Glossary](#glossary) "
      ],
      "id": "unlimited-brook"
    },
    {
      "cell_type": "markdown",
      "metadata": {
        "id": "congressional-sending"
      },
      "source": [
        "## Instructor's note\n",
        "Welcome to Porium Blockchain! I'm excited to have you in the class and look forward to your contributions to the learning community.<br>\n",
        "To begin, I recommend taking a few minutes to explore the course platform. Review the material we’ll cover each week, and preview the assignments you’ll need to complete to pass the course. If you have questions about course content, please send a message via e-mail or chat to me or the other peer learners to get help from others in the course community. For technical problems with the course platform, contact the Learner Help Center.<br/>\n",
        "Good luck as you get started, and I hope you enjoy the course!\n",
        "\n"
      ],
      "id": "congressional-sending"
    },
    {
      "cell_type": "markdown",
      "metadata": {
        "id": "requested-leone"
      },
      "source": [
        "## 1. Blockchain: Getting started\n",
        "\n",
        "A helicopter tour of the essential concepts of blockchain - each of which will be detailed later in the course. Blockchain as a technology is defined in terms of the commonalities present in blockchain applications. There is also an introduction to both current and future blockchain applications.\n"
      ],
      "id": "requested-leone"
    },
    {
      "cell_type": "markdown",
      "metadata": {
        "id": "ancient-findings"
      },
      "source": [
        "### 1.1. Basics of Blockchain\n",
        "\n",
        "#### 1.1.1. Introduction to Distributed Ledgers\n",
        "\n",
        "Blockchain is a chronological database of transactions recorded by a network of computers; it is a list (‘chain’) of groups (‘blocks’) of transactions faciliated through this decentralised public ledger - also known as distributed ledger technology (DLT).\n",
        "Blockchain ledger combines cryptographic mechanism, data management, networking, and incentive mechanisms that rewards the checking, execution, and recording of transactions between them different parties of the network.<br>\n",
        "Every new transaction executed on the ledger carries both an immutable record of the entire history of the chain and all the previous transactions. Anyone can add a transaction to it; noone can remove it.\n",
        "\n",
        "![blockchain-basics](blockchain-basics.png)\n",
        "\n",
        "Basically, blockchain is a public ledger containing the list of all historical transactions that happened since its inception; each node on the network records new transactions on its copy of the ledger and then propagates the information to all the nodes it is connected to (hence peer to peer). Put simply, it is basically a distributed database which nodes contain a copy of the ledger of all transactions. This allows the processing nodes to independently validate of the authenticity of the transactions without the need for middleman or central authority, with the content of the blocks replicated across many geographically-distributed processing nodes. The system is said **trustless**. All participants of the network – all the other devices that hold the same version of a block – eventually achieve **consensus** about the integrity and shared contents of the blockchain ledger, by solving a complex mathematical problem; the node at the origin of the successfull computation gets a *reward*.\n",
        "\n",
        "\n",
        "Historically, transactions between parties such as payments, escrow, notarisation, voting, registration, and process coordination– key to government and industry operations – are supported by trusted third-parties such as public private agencies, banks, legal firms, accounting firms, and service providers. About being trustless, **blockchain consensus** is designed so that instead of trusting these intermediaries, trust would be given to a majority of the collective jointly operating the blockchain, and the correctness of their shared technology platform.\n",
        "\n",
        "\n",
        "\n",
        "\n",
        "* **abcd** ```\"abcd\"```"
      ],
      "id": "ancient-findings"
    },
    {
      "cell_type": "markdown",
      "metadata": {
        "id": "XoceRL47g_nk"
      },
      "source": [
        "**Adding and validating transactions on the ledger**\n",
        "\n",
        "Each articipating party proposes a new transaction to the network by adding it to a pool of transactions n the ledger intended to be recorded onto it. Processing nodes (*miners*) within that blockchain community take some of those transactions, check their integrity, and record them in new blocks on the ledger.<br>\n",
        "The network must confirm that any new transaction is valid, so that when a consensus is reached (by 51 per cent of the participants 'voting power'), the new block is added to the end of the chain, thereby forming overtime the blockchain. It then cannot be deleted and becomes a permanent, immutable record of the transactions that can be accessed and verified by everyone on the network.<br>\n",
        "\n",
        "\n",
        "<h4><b>Rules</b></h4>\n",
        "\n",
        "![rule](http://i.stack.imgur.com/QvgMr.png)\n",
        "\n",
        "\n",
        "<h4><b>Transactions</b></h4>\n",
        "\n",
        "![transations](https://nakamotoinstitute.org/static/img/bitcoin/transactions.svg)\n",
        "\n",
        "\n",
        "<h4><b>Block verification</b></h4>\n",
        "\n",
        "![verification](https://www.shadowandy.net/wp/wp-content/uploads/bitcoin-block-chain-verified.png)\n",
        "\n"
      ],
      "id": "XoceRL47g_nk"
    },
    {
      "cell_type": "markdown",
      "metadata": {
        "id": "_Ueu-u3xEmCP"
      },
      "source": [
        ""
      ],
      "id": "_Ueu-u3xEmCP"
    },
    {
      "cell_type": "markdown",
      "metadata": {
        "id": "ymQo3QphDUxg"
      },
      "source": [
        ""
      ],
      "id": "ymQo3QphDUxg"
    },
    {
      "cell_type": "markdown",
      "metadata": {
        "id": "p7jYRHiZDThM"
      },
      "source": [
        ""
      ],
      "id": "p7jYRHiZDThM"
    },
    {
      "cell_type": "markdown",
      "metadata": {
        "id": "zs0Q90gCI1uo"
      },
      "source": [
        "### 1.2. History of cryptocurrency\n",
        "\n",
        "#### 1.2.1. A History of Digital Money\n",
        "\n",
        "**Pre-Bitcoin era**\n",
        "Before cryptocurrencies, were digital currencies. Although decentralised money was proposed as early as 1998, it remained at the stage of concept partly because of the inability to ensure security and verifiability of the transactions.\n",
        "Digital currency started in fact in the 90s with the first known electronic cash company called DigiCash. The followed by more established financial technology companies, among which Paypal, with an online money transfer service to customers.\n",
        "\n",
        "\n",
        "##### Cryptocurrency\n",
        "\n",
        "A digital asset designed to work as a medium of exchange. Bitcoin is the most widely used cryptocurrency at this day, which can be traded on the internet like would any other currency or commodity.  It is censorship resistant, has transaction records secured by a strong cryptography, which also control the creation of additional coins and verifies the transfer of coin ownership. <br/>\n",
        "Cryptocurrencies do not exist under physical form and is typically not issued by a central authority. A cryptocurrency typically uses decentralized control, thus differing from *fiat currency* (medium of exchange established as money usually by government regulation) in paper form, and central bank digital currency (CBDC), its digital equivalent.\n",
        "\n",
        "No banks are involved in these transactions; Eg. if a Alice wants to send some money to a Bob, she can do so over the bitcoin network without having to pay heavy transaction fees on her own money, borderless, at a speed that is faster than current traditional alternatives. Both the sender and receiver can be anonymous, depending on the kind of blockchain architecture used; their transactions as well as all the others on bitcoin since its inception are publicly visible. The network is transparent. An advantage of a decentralized system is that there is no central point offailure, thus making it immune against equipment failures and difficult for attackers to hack.<br>\n",
        "\n",
        "The fact that there is no central governing authority or controlling body implies that every user is responsible for the storing and safety of their own funds within specialized wallets.\n",
        "\n",
        "\n",
        "\n",
        "**Bitcoin blockchain**\n",
        "First and foremost popular application for real-life purpose came to life through the vision of an individual - or group of individuals - going by the pseudonym of **Satoshi Nakamoto** on a cryptography mailing in 2008 where he published a paper titled \"Bitcoin: A Peer-to-Peer Electronic Cash System\". The Bitcoin software was released as open source code a few months latere, in January 2009. The period this happens is no coincidence: we are then in the mist of one of the worst financial crisis of all time, the subprime crisis.<br>\n",
        "\n",
        "Blockchain technology is based on the concept that in order to avoid the risk of spending the same money twice, **double spending problem** (scheme in which the same single digital token can be spent more than once onto the network), every participants of the network needs to authorize the transaction in order for it to be verified.<br/>\n",
        "This technology was not born that day though, nor was digital cash. The first technological solution that solved the *double-spending problem* was, along with the first reference implementation of bitcoin core.<br>\n",
        "\n",
        "The bitcoin network is a peer-to-peer payment network that operates on a cryptographic protocol. Users can send and receive bitcoins(the units of currency on the network), by broadcasting digitally signed messages to the network using bitcoin wallet software.  Computers on the network that host this wallet software are also called as Nodes. Transactions are recorded into a distributed, replicated public database known as the blockchain, with consensus achieved by a proof-of-work system called \"mining\". It is the process of creating new blockchain blocks using computing power to record transactions in blocks on the chain. ‘Proof of Work’ (PoW) mining uses computing power to solve the cryptographic algorithms necessary to record the transactions, leading to rewarding the successful miners.<br>\n",
        "\n",
        "Bitcoin has been running successfully for the past 10-11 years, at a few exceptions. It is not an overstatement to say that this system is one of the -if not the- most attacked on the internet today, and still running.\n",
        "\n",
        "***The hard fork***\n",
        "\n",
        "```\n",
        "# This is formatted as code\n",
        "```\n",
        "\n",
        "\n",
        "\n",
        "***Bitcoin components***\n",
        "\n",
        "Around every 10 minutes (!though this information might have since changed), a newly added transaction is committed as a block to the existing ledger and the information propagated to all connected nodes within the blockchain.<br>\n",
        "\n",
        "While the original bitcoin implementation internally used Berkeley DB for holding these transactions, recent versions have started to use LevelDB from Google. Web 3.0 enables a full decentralized implementation that does not rely on any central service provider.<br/>\n",
        "\n",
        "Below are some key component of the bitcoin network:\n",
        "\n",
        "- Mining: A record-keeping service that performs the commit/validation of new block, continuously ensuring the ledger is accurate and up to date. This service will continuously verify new transactions forming a block to see if each block contains a reference to the previous block. The information held in each block contains a reference to a hash of the previous block, which are again committed by containing a reference and the previous one and so on. These hashes are generated using a popular cryptographic algorithm called **SHA-256**.\n",
        "\n",
        "In order for a new block to be validated on to the blockchain, it must must demonstrate a \"proof-of-work\", a component constituing of the memory intensive operation of generating a *nonce* (a cryptographic sequence of numbers following a defined pattern and difficulty). This operation (proof) is easy to verify by any node in the network, but extremely time-consuming to compute. \n",
        "\n",
        "Every 2016 blocks the level of difficulty is adjusted depending on the recent performance of the Bitcoin network. Since the mining is time-consuming, CPU/GPU and memory intensive service, once a miner has his/her version of the block accepted by the nodes of the network, he/she is rewarded for the task with few Bitcoins. It was until the '*halving*' approximately 12.5 bitcoins for each successful mining; it is today...\n",
        "\n",
        "```\n",
        "# <btc reward to miners>\n",
        "```\n",
        "\n",
        "- Wallets: a digital (*hot*) storage space dedicated to hold and store bitcoin cryptocurrencies, in analogy to real world wallets as places to hold and store money. This is done by generating cryptographic key-pair (public and private keys) when a user registers for a wallet; the wallet holds the user's keys.\n",
        "\n",
        "We differentiate two types of wallets: Full clients, Light clients. **Full clients** can verify the validity of the transactions against the local host copy of the blockchain. More useful in low bandwidth networks, **Light clients** consult with full clients for transaction verification.\n",
        "\n",
        "- Transaction: a record that documents the movement of money/cryptocurrency from one user to another. The unit of bitcoin transactions on the blockchain is Bitcoin.\n",
        "\n",
        "<br>\n",
        "\n",
        "<hr>\n",
        "\n",
        "<br/>\n",
        "\n",
        "To summarize<br>\n",
        "\n",
        "The bitcoin network is a public, fully decentralized ledger, which each system -called node- can run a wallet (full/light); these will interact with other nodes on the internet using p2p (peer to peer) protocol. \n",
        "Specialized nodes, the Miners, are responsible for ensuring the proof-of-work of the committed block. The scenario of a group of miners coming up with a new PoW almost at the same time is called **fork**; it is handled using the **consensus algorithm**.\n",
        "Each node retains a copy of the entire chain of block, thereby being secure and fault/failure-tolerant. Theoretically, a malvoyent agent (attacker) can attempt to gain control of the network or alter the content of the decentralized blockchain database only if he/she has access to more than 51% of the network. Hence a **51% attack**\n",
        "\n"
      ],
      "id": "zs0Q90gCI1uo"
    },
    {
      "cell_type": "markdown",
      "metadata": {
        "id": "NRF-CfhTFpSB"
      },
      "source": [
        "Beyond PoW as the original formula for verifying transactions, an alternative mining operation is gaining traction: ‘proof of stake’ (PoS). Seen as more 'democratic' and with a lesser environmental impact than the one perceive in the mining of bitoin and other PoW-based cryptocurrencies, participants must in this configuration prove they have a significant stake in the system before they can be selected to mine (or mint) new blocks to the blockchain."
      ],
      "id": "NRF-CfhTFpSB"
    },
    {
      "cell_type": "markdown",
      "metadata": {
        "id": "eJ9dI7NiDwiu"
      },
      "source": [
        "##### **Halving**\n",
        "\n",
        "```\n",
        "# <halving description>\n",
        "```"
      ],
      "id": "eJ9dI7NiDwiu"
    },
    {
      "cell_type": "markdown",
      "metadata": {
        "id": "qB4zrD0SMm0_"
      },
      "source": [
        "#### Early History of Cryptocurrency\n",
        "\n",
        "For the first couple of years of the existence of cryptocurrencies, this was Bitcoin. Only mined in its first year by a small number of enthusiasts -among which developers, cryptographers, cypherphunks mostly- with no transactional value.<br>\n",
        "\n",
        "In 2010 happened the first Bitcoin (BTC) transactions between users of the [Bitcointalk](https://bitcointalk.org/) forum, among which the infamous purchase of two pizzas for 10 000 BTC -event celebrated today on the *Bitcoin Pizza Day*. <br/>\n",
        "\n",
        "By 1 January 2011, 1 BTC equaled USD 0.30, with a total market cap above USD 1 million. 2011 saw the creation of other cryptocurrencies -also known known as *altcoins*, or *alternative coins* (including *litecoin*). These are branchs of BTC cryptocurrency, *forked* from its open source code and intended to improve certain elements of the Bitcoin design such as, but not limited to, speed or anonymity.<br>\n",
        "\n",
        "The increasing popularity of crytocurrencies led to the creation of online infrastructures to enable users to trade and store their coins, with the first Bitcoin exchanges being launched. Along with it *online black markets* available on the *dark web* also gained traction, where contraband items were traded against sole payment with Bitcoin -due to its pseudo-anonymity. This might explain why for a relatively long period of time was bitcoin linked to illegal and or criminal activity. It has since evolved beyond this limited scope.<br>\n",
        "\n",
        "2012 saw the first use of cryptocurrency as a form of payment at legitimate online merchants platform. The first major website to accept payment in Bitcoin was WordPress, followed shortly by other retailers including Microsoft. This move from such a major actor was considered to be the first step towards widely accepting Bitcoin and cryptocurrency as a legitimate international payment method. By the end of 2012 Bitcoin value was over $13. More altcoins -among which Ripple, a cryptocurrency that does not require mining, thus with much faster transaction times than Bitcoin- were developed that year.<br/>\n",
        "\n",
        "2013 was the year when bitcoin got closer to being truly mainstream. Research suggests that this substantial growth was, at least partly, linked to the increasing number of online vendors ready to accept it as a currency; market manipulation -most likely through artificial trading between two bots operating on the [Mt Gox](\twww.mtgox.com) exchange- may have also been the other reason. Initial Coin Offering (ICO) started that year, the first one being held by Masterocin, a means of crowdfunding cryptocurrencies that had since proved to be controversial due to the lack of regulatory oversight placed on them. For that same reason, ICOs have today been completely banned by a number of countries. "
      ],
      "id": "qB4zrD0SMm0_"
    },
    {
      "cell_type": "markdown",
      "metadata": {
        "id": "cy_GaEReAQz9"
      },
      "source": [
        "**Bitcoin Pizza Day**\n",
        "\n",
        "On 22nd of May 2010,  occured the first presumed transaction of bitcoins against goods organized on bitcointalk forum.<br>\n",
        "\n",
        "\"I'll pay 10,000 bitcoins for a couple of pizzas.. like maybe 2 large ones so I have some left over for the next day,\" wrote Laszlo Hanyecz. Ultimately, a British man took up Hanyecz's offer and bought the two pizzas for him in exchange for the 10,000 Bitcoins.<br>\n",
        "Even then the recipient of the Bitcoins got himself a bargain, paying USD 25 for the pizzas, while 10,000 Bitcoins were worth around USD 41 at the time.<br/>\n",
        "\n",
        "\n",
        "![bitcoin pizza day](https://happybitcoinpizzaday.com/static/media/1.78aa5a06.jpg)\n",
        "\n",
        "[source](https://happybitcoinpizzaday.com/)"
      ],
      "id": "cy_GaEReAQz9"
    },
    {
      "cell_type": "markdown",
      "metadata": {
        "id": "2f2If4fH6Qe-"
      },
      "source": [
        "**BTC/USD historical chart**\n",
        "\n",
        "![Bitcoin historical prices chart](https://www.doublebtc.company/wp-content/uploads/2020/11/Bitcoin-price-has-now-only-been-higher-one-day-in.png)\n",
        "\n",
        "[Source](https://www.doublebtc.company/bitcoin-price-has-now-only-been-higher-one-day-in-history/)"
      ],
      "id": "2f2If4fH6Qe-"
    },
    {
      "cell_type": "markdown",
      "metadata": {
        "id": "M9yuOH1N6QOK"
      },
      "source": [
        "#### 2014 to 2016: Mt Gox and the Development of Smart Contracts\n",
        "\n",
        "A massive hack in February 2014 on Mt Gox,then largest Bitcoin exchange in the world, led to the theft of over 6% of total Bitcoin in circulation worldwide at that time. Among other things, the hack brought attention to the security aspects of cryptocurrency for holders in that of a crypto exchange platform offer a centralised single point of failure for hackers to attack. The hack also led to a relatively long period of bear market for the value of Bitcoin, wich value fell from over USD 950 in January 2014 to USD 200 by August 2015."
      ],
      "id": "M9yuOH1N6QOK"
    },
    {
      "cell_type": "markdown",
      "metadata": {
        "id": "ymPN1VBRG4lQ"
      },
      "source": [
        ""
      ],
      "id": "ymPN1VBRG4lQ"
    },
    {
      "cell_type": "markdown",
      "metadata": {
        "id": "TkCIH_vFG4Uc"
      },
      "source": [
        "#### 2017 to nowadays"
      ],
      "id": "TkCIH_vFG4Uc"
    },
    {
      "cell_type": "markdown",
      "metadata": {
        "id": "JA0ccQ1QMlvw"
      },
      "source": [
        ""
      ],
      "id": "JA0ccQ1QMlvw"
    },
    {
      "cell_type": "markdown",
      "metadata": {
        "id": "qaw8ASg9bH-f"
      },
      "source": [
        "## Resources\n",
        "\n",
        "* [Double-spending proble](https://en.wikipedia.org/wiki/Double-spending)\n",
        "* [Cryptocurrency](https://en.wikipedia.org/wiki/Cryptocurrency)\n",
        "* [Fiat money](https://en.wikipedia.org/wiki/Fiat_money)\n",
        "* [Let's Decentralize the Web](https://realchainlife.github.io/posts/lets-decentralize-the-web.html )\n",
        "* [Why the Web 3.0 Matters and you should know about it](https://medium.com/@essentia1/why-the-web-3-0-matters-and-you-should-know-about-it-a5851d63c949)\n",
        "* [The Complete History of Cryptocurrency for Beginners](https://parameter.io/history-of-cryptocurrency/)\n",
        "\n",
        "\n"
      ],
      "id": "qaw8ASg9bH-f"
    },
    {
      "cell_type": "markdown",
      "metadata": {
        "id": "XdEyzblMlItd"
      },
      "source": [
        ""
      ],
      "id": "XdEyzblMlItd"
    },
    {
      "cell_type": "markdown",
      "metadata": {
        "id": "ghVoM33rlKpk"
      },
      "source": [
        "### 1.4. Blockchain use cases\n",
        "\n",
        "#### 1.4.2 Web 3.0\n",
        "\n",
        "The Decentralize Web or Web 3.0 can be described in simple terms as an architectural system that builds services on the internet which do not rely to function on any single central authority or organisation. As opposed to web 2.0 (the current model) where significant shares of the whole infrastructure are centralized, privately owned and or submitted to censorship.<br>\n",
        "\n",
        "According to Jason Griffey, fellow at the Berkman Center for Internet and Society at Harvard University, it is *a series of technologies that replace or augment current communication protocols, networks, and services and distribute them in a way that is robust against single-actor control or censorship*. "
      ],
      "id": "ghVoM33rlKpk"
    },
    {
      "cell_type": "markdown",
      "metadata": {
        "id": "hEXccnrJ2kW3"
      },
      "source": [
        "\n",
        "\n",
        "```\n",
        "# This is formatted as code\n",
        "```\n",
        "\n"
      ],
      "id": "hEXccnrJ2kW3"
    },
    {
      "cell_type": "markdown",
      "metadata": {
        "id": "pa3h567z_SzN"
      },
      "source": [
        ""
      ],
      "id": "pa3h567z_SzN"
    },
    {
      "cell_type": "markdown",
      "metadata": {
        "id": "l0jT-SlB_Sh0"
      },
      "source": [
        "\n",
        "\n",
        "![web 2.0 vs web 3.0](https://cdn-images-1.medium.com/max/1600/1*M5JgwC4zOcX0LaQsLd1fkw.png)"
      ],
      "id": "l0jT-SlB_Sh0"
    },
    {
      "cell_type": "markdown",
      "metadata": {
        "id": "r3ZvJhNwA4y0"
      },
      "source": [
        "Note. Brave browser is not web3; Esssentia.one does not exist anymore; there is more to web 3 than those highlighted here."
      ],
      "id": "r3ZvJhNwA4y0"
    },
    {
      "cell_type": "markdown",
      "metadata": {
        "id": "EYsICp1K_SSb"
      },
      "source": [
        ""
      ],
      "id": "EYsICp1K_SSb"
    },
    {
      "cell_type": "markdown",
      "metadata": {
        "id": "p9umHAT8lLqO"
      },
      "source": [
        ""
      ],
      "id": "p9umHAT8lLqO"
    }
  ]
}