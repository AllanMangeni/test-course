{
  "nbformat": 4,
  "nbformat_minor": 0,
  "metadata": {
    "colab": {
      "name": "Quiz_blockchain_getting_started_2021",
      "provenance": [],
      "collapsed_sections": [],
      "toc_visible": true,
      "include_colab_link": true
    },
    "kernelspec": {
      "display_name": "Python 3",
      "name": "python3"
    }
  },
  "cells": [
    {
      "cell_type": "markdown",
      "metadata": {
        "id": "view-in-github",
        "colab_type": "text"
      },
      "source": [
        "<a href=\"https://colab.research.google.com/github/dnzengou/test-course/blob/main/Quiz_blockchain_getting_started_2021.ipynb\" target=\"_parent\"><img src=\"https://colab.research.google.com/assets/colab-badge.svg\" alt=\"Open In Colab\"/></a>"
      ]
    },
    {
      "cell_type": "markdown",
      "metadata": {
        "id": "VX3hS1BP9paC"
      },
      "source": [
        "# Quiz"
      ]
    },
    {
      "cell_type": "markdown",
      "metadata": {
        "id": "ihjlsc8x9uy0"
      },
      "source": [
        "(True/False) Are blockchain and distributed ledger technology different things?"
      ]
    },
    {
      "cell_type": "markdown",
      "metadata": {
        "id": "Mq4ovcyn-Aqo"
      },
      "source": [
        "\n",
        "\n",
        "```\n",
        "A. True\n",
        "B. False\n",
        "ANSWER: B\n",
        "```\n",
        "\n"
      ]
    },
    {
      "cell_type": "markdown",
      "metadata": {
        "id": "hFLXs55u-qH3"
      },
      "source": [
        "(True/False) Satoshi Nakamoto has not invented blockchain."
      ]
    },
    {
      "cell_type": "markdown",
      "metadata": {
        "id": "QHDIs-Uz-A2J"
      },
      "source": [
        "\n",
        "\n",
        "```\n",
        "A. True\n",
        "B. False\n",
        "```\n",
        "\n"
      ]
    },
    {
      "cell_type": "markdown",
      "metadata": {
        "id": "vZCsZYkC-A5P"
      },
      "source": [
        "Bitcoin a ... network?"
      ]
    },
    {
      "cell_type": "markdown",
      "metadata": {
        "id": "HKwzh3-rAi4U"
      },
      "source": [
        "\n",
        "\n",
        "```\n",
        "A. Central\n",
        "B. Distributed\n",
        "C. Decentralized\n",
        "ANSWER: Distributed \n",
        "```\n",
        "\n"
      ]
    },
    {
      "cell_type": "markdown",
      "metadata": {
        "id": "DXGWX9_F-A8o"
      },
      "source": [
        "What blockchain is NOT?"
      ]
    },
    {
      "cell_type": "markdown",
      "metadata": {
        "id": "-gS4J1FsB0oe"
      },
      "source": [
        "\n",
        "\n",
        "```\n",
        "A. Immutable\n",
        "B. Trustless\n",
        "C. Tamper proof\n",
        "D. Censored\n",
        "ANSWER: D.\n",
        "```\n",
        "\n"
      ]
    },
    {
      "cell_type": "markdown",
      "metadata": {
        "id": "Bjj2FwSGB0uo"
      },
      "source": [
        "Bitcoin is a..."
      ]
    },
    {
      "cell_type": "markdown",
      "metadata": {
        "id": "r4dsd1MOB0yI"
      },
      "source": [
        "\n",
        "\n",
        "```\n",
        "A. Cryptocurrency\n",
        "B. Blockchain application\n",
        "C. Both\n",
        "ANSWER: C\n",
        "```\n",
        "\n"
      ]
    },
    {
      "cell_type": "markdown",
      "metadata": {
        "id": "bvBEPBSiC3go"
      },
      "source": [
        "(True/False) Bitcoin and blockchain network the same thing."
      ]
    },
    {
      "cell_type": "markdown",
      "metadata": {
        "id": "vycGj7uXC3kM"
      },
      "source": [
        "\n",
        "\n",
        "```\n",
        "A. True\n",
        "B. False\n",
        "C. Maybe\n",
        "ANSWER: B\n",
        "```\n",
        "\n"
      ]
    },
    {
      "cell_type": "markdown",
      "metadata": {
        "id": "q4eoAE0OC3nA"
      },
      "source": [
        ""
      ]
    },
    {
      "cell_type": "markdown",
      "metadata": {
        "id": "mLRDXJ4QC3qh"
      },
      "source": [
        ""
      ]
    },
    {
      "cell_type": "code",
      "metadata": {
        "id": "iR9fn2Yx9r3R"
      },
      "source": [
        ""
      ],
      "execution_count": null,
      "outputs": []
    }
  ]
}
